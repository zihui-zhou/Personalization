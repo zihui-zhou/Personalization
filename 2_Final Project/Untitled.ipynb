{
 "cells": [
  {
   "cell_type": "code",
   "execution_count": 1,
   "metadata": {},
   "outputs": [],
   "source": [
    "import numpy as np\n",
    "import pandas as pd\n",
    "filePath = 'Organized_dataset/cleaned/'"
   ]
  },
  {
   "cell_type": "code",
   "execution_count": 2,
   "metadata": {},
   "outputs": [],
   "source": [
    "ratings = pd.read_csv(filePath + 'review_cleaned_withTrainTest.csv')"
   ]
  },
  {
   "cell_type": "code",
   "execution_count": 3,
   "metadata": {},
   "outputs": [
    {
     "data": {
      "text/html": [
       "<div>\n",
       "<style scoped>\n",
       "    .dataframe tbody tr th:only-of-type {\n",
       "        vertical-align: middle;\n",
       "    }\n",
       "\n",
       "    .dataframe tbody tr th {\n",
       "        vertical-align: top;\n",
       "    }\n",
       "\n",
       "    .dataframe thead th {\n",
       "        text-align: right;\n",
       "    }\n",
       "</style>\n",
       "<table border=\"1\" class=\"dataframe\">\n",
       "  <thead>\n",
       "    <tr style=\"text-align: right;\">\n",
       "      <th></th>\n",
       "      <th>user_id</th>\n",
       "      <th>date</th>\n",
       "      <th>business_id</th>\n",
       "      <th>cool</th>\n",
       "      <th>funny</th>\n",
       "      <th>review_id</th>\n",
       "      <th>stars</th>\n",
       "      <th>text</th>\n",
       "      <th>useful</th>\n",
       "      <th>TrainTest</th>\n",
       "    </tr>\n",
       "  </thead>\n",
       "  <tbody>\n",
       "    <tr>\n",
       "      <th>0</th>\n",
       "      <td>9jdES117z1Dat4aJuGZs5w</td>\n",
       "      <td>2015-01-01 00:00:30</td>\n",
       "      <td>qEHYU_tm4YM04a0586UPvw</td>\n",
       "      <td>0.0</td>\n",
       "      <td>0.0</td>\n",
       "      <td>hNwleSHcvNksIQT31569Yg</td>\n",
       "      <td>5.0</td>\n",
       "      <td>Window washing inside and out done after many ...</td>\n",
       "      <td>5.0</td>\n",
       "      <td>1</td>\n",
       "    </tr>\n",
       "    <tr>\n",
       "      <th>1</th>\n",
       "      <td>UaUVIQweBNlE_tVBCZjYdA</td>\n",
       "      <td>2015-01-01 00:02:20</td>\n",
       "      <td>XcWlBj5oQgzKhR7Cxovj3w</td>\n",
       "      <td>0.0</td>\n",
       "      <td>0.0</td>\n",
       "      <td>DfZGAhAkPMJYDdXGRjhw8A</td>\n",
       "      <td>2.0</td>\n",
       "      <td>I will admit, I do not have high expectations ...</td>\n",
       "      <td>0.0</td>\n",
       "      <td>0</td>\n",
       "    </tr>\n",
       "    <tr>\n",
       "      <th>2</th>\n",
       "      <td>mq5rKhLMHLbUaBeZY8mY8Q</td>\n",
       "      <td>2015-01-01 00:02:35</td>\n",
       "      <td>O-uIEuv7JLUHajkemx_sVw</td>\n",
       "      <td>0.0</td>\n",
       "      <td>1.0</td>\n",
       "      <td>65viXwIysYSxEyPZgRSVbQ</td>\n",
       "      <td>1.0</td>\n",
       "      <td>The chicken curry I got was extremely dry. Des...</td>\n",
       "      <td>0.0</td>\n",
       "      <td>1</td>\n",
       "    </tr>\n",
       "    <tr>\n",
       "      <th>3</th>\n",
       "      <td>-ELGAON2OCSBBIbGKNiYGQ</td>\n",
       "      <td>2015-01-01 00:02:42</td>\n",
       "      <td>nqgeTj6bfIMY0v2J-vZa8A</td>\n",
       "      <td>0.0</td>\n",
       "      <td>0.0</td>\n",
       "      <td>hS3phsfoP-fAZVlMomx4Kg</td>\n",
       "      <td>5.0</td>\n",
       "      <td>Really took care of me on my trip out of state...</td>\n",
       "      <td>0.0</td>\n",
       "      <td>0</td>\n",
       "    </tr>\n",
       "    <tr>\n",
       "      <th>4</th>\n",
       "      <td>tYxumQ3zkWje5X14LTDpcA</td>\n",
       "      <td>2015-01-01 00:04:13</td>\n",
       "      <td>kd1NhNWvWo5AhBUSaGeSiw</td>\n",
       "      <td>1.0</td>\n",
       "      <td>0.0</td>\n",
       "      <td>eaDgBBrOtvFUto5pADZwQA</td>\n",
       "      <td>5.0</td>\n",
       "      <td>Gary and Chester run this 2 year old Church St...</td>\n",
       "      <td>1.0</td>\n",
       "      <td>0</td>\n",
       "    </tr>\n",
       "  </tbody>\n",
       "</table>\n",
       "</div>"
      ],
      "text/plain": [
       "                  user_id                 date             business_id  cool  \\\n",
       "0  9jdES117z1Dat4aJuGZs5w  2015-01-01 00:00:30  qEHYU_tm4YM04a0586UPvw   0.0   \n",
       "1  UaUVIQweBNlE_tVBCZjYdA  2015-01-01 00:02:20  XcWlBj5oQgzKhR7Cxovj3w   0.0   \n",
       "2  mq5rKhLMHLbUaBeZY8mY8Q  2015-01-01 00:02:35  O-uIEuv7JLUHajkemx_sVw   0.0   \n",
       "3  -ELGAON2OCSBBIbGKNiYGQ  2015-01-01 00:02:42  nqgeTj6bfIMY0v2J-vZa8A   0.0   \n",
       "4  tYxumQ3zkWje5X14LTDpcA  2015-01-01 00:04:13  kd1NhNWvWo5AhBUSaGeSiw   1.0   \n",
       "\n",
       "   funny               review_id  stars  \\\n",
       "0    0.0  hNwleSHcvNksIQT31569Yg    5.0   \n",
       "1    0.0  DfZGAhAkPMJYDdXGRjhw8A    2.0   \n",
       "2    1.0  65viXwIysYSxEyPZgRSVbQ    1.0   \n",
       "3    0.0  hS3phsfoP-fAZVlMomx4Kg    5.0   \n",
       "4    0.0  eaDgBBrOtvFUto5pADZwQA    5.0   \n",
       "\n",
       "                                                text  useful  TrainTest  \n",
       "0  Window washing inside and out done after many ...     5.0          1  \n",
       "1  I will admit, I do not have high expectations ...     0.0          0  \n",
       "2  The chicken curry I got was extremely dry. Des...     0.0          1  \n",
       "3  Really took care of me on my trip out of state...     0.0          0  \n",
       "4  Gary and Chester run this 2 year old Church St...     1.0          0  "
      ]
     },
     "execution_count": 3,
     "metadata": {},
     "output_type": "execute_result"
    }
   ],
   "source": [
    "ratings.head()"
   ]
  },
  {
   "cell_type": "code",
   "execution_count": 4,
   "metadata": {},
   "outputs": [
    {
     "data": {
      "text/plain": [
       "(3045862, 10)"
      ]
     },
     "execution_count": 4,
     "metadata": {},
     "output_type": "execute_result"
    }
   ],
   "source": [
    "ratings.shape"
   ]
  },
  {
   "cell_type": "code",
   "execution_count": null,
   "metadata": {},
   "outputs": [],
   "source": []
  }
 ],
 "metadata": {
  "kernelspec": {
   "display_name": "Python 3",
   "language": "python",
   "name": "python3"
  },
  "language_info": {
   "codemirror_mode": {
    "name": "ipython",
    "version": 3
   },
   "file_extension": ".py",
   "mimetype": "text/x-python",
   "name": "python",
   "nbconvert_exporter": "python",
   "pygments_lexer": "ipython3",
   "version": "3.7.3"
  }
 },
 "nbformat": 4,
 "nbformat_minor": 2
}
