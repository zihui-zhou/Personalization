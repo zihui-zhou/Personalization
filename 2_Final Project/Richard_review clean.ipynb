{
 "cells": [
  {
   "cell_type": "code",
   "execution_count": 1,
   "metadata": {},
   "outputs": [],
   "source": [
    "import pandas as pd\n",
    "\n",
    "user = pd.read_csv(\"Organized_dataset/cleaned/user_cleaned.csv\")\n",
    "business = pd.read_csv(\"Organized_dataset/cleaned/business_cleaned.csv\")"
   ]
  },
  {
   "cell_type": "code",
   "execution_count": 2,
   "metadata": {},
   "outputs": [
    {
     "name": "stdout",
     "output_type": "stream",
     "text": [
      "818922\n",
      "158525\n"
     ]
    }
   ],
   "source": [
    "valid_user = user.user_id\n",
    "valid_business = business.business_id\n",
    "print(valid_user.count())\n",
    "print(valid_business.count())"
   ]
  },
  {
   "cell_type": "code",
   "execution_count": 3,
   "metadata": {},
   "outputs": [],
   "source": [
    "df = pd.read_csv('Organized_dataset/cleaned/review.csv',sep=',',header=0)"
   ]
  },
  {
   "cell_type": "code",
   "execution_count": 9,
   "metadata": {},
   "outputs": [],
   "source": [
    "rr = df[(df.business_id.isin(valid_business))&(df.user_id.isin(valid_user))]"
   ]
  },
  {
   "cell_type": "code",
   "execution_count": 10,
   "metadata": {},
   "outputs": [
    {
     "name": "stdout",
     "output_type": "stream",
     "text": [
      "<class 'pandas.core.frame.DataFrame'>\n",
      "Int64Index: 4688946 entries, 0 to 6685899\n",
      "Data columns (total 9 columns):\n",
      "funny          int64\n",
      "useful         int64\n",
      "review_id      object\n",
      "text           object\n",
      "business_id    object\n",
      "stars          float64\n",
      "date           object\n",
      "user_id        object\n",
      "cool           int64\n",
      "dtypes: float64(1), int64(3), object(5)\n",
      "memory usage: 357.7+ MB\n"
     ]
    }
   ],
   "source": [
    "rr.info()"
   ]
  },
  {
   "cell_type": "code",
   "execution_count": 14,
   "metadata": {},
   "outputs": [],
   "source": [
    "import datetime\n",
    "date_after = pd.Timestamp(2015, 1, 1, 0)"
   ]
  },
  {
   "cell_type": "code",
   "execution_count": 21,
   "metadata": {},
   "outputs": [
    {
     "data": {
      "text/plain": [
       "Timestamp('2017-01-14 21:30:33')"
      ]
     },
     "execution_count": 21,
     "metadata": {},
     "output_type": "execute_result"
    }
   ],
   "source": [
    "temp = rr.loc[:,'date'].astype('datetime64[ns]')"
   ]
  },
  {
   "cell_type": "code",
   "execution_count": 22,
   "metadata": {},
   "outputs": [],
   "source": [
    "rr.loc[:,'date'] = temp"
   ]
  },
  {
   "cell_type": "code",
   "execution_count": 23,
   "metadata": {},
   "outputs": [],
   "source": [
    "result = rr[pd.to_datetime(rr.date) >= date_after]"
   ]
  },
  {
   "cell_type": "code",
   "execution_count": 24,
   "metadata": {},
   "outputs": [
    {
     "name": "stdout",
     "output_type": "stream",
     "text": [
      "<class 'pandas.core.frame.DataFrame'>\n",
      "Int64Index: 3148043 entries, 1 to 6685899\n",
      "Data columns (total 9 columns):\n",
      "funny          int64\n",
      "useful         int64\n",
      "review_id      object\n",
      "text           object\n",
      "business_id    object\n",
      "stars          float64\n",
      "date           datetime64[ns]\n",
      "user_id        object\n",
      "cool           int64\n",
      "dtypes: datetime64[ns](1), float64(1), int64(3), object(4)\n",
      "memory usage: 240.2+ MB\n"
     ]
    }
   ],
   "source": [
    "result.info()"
   ]
  },
  {
   "cell_type": "code",
   "execution_count": 25,
   "metadata": {},
   "outputs": [],
   "source": [
    "result.to_csv(\"yelp_dataset/review_cleaned.csv\",index =False)"
   ]
  },
  {
   "cell_type": "code",
   "execution_count": 1,
   "metadata": {},
   "outputs": [
    {
     "name": "stderr",
     "output_type": "stream",
     "text": [
      "/Users/Jing/anaconda3/lib/python3.7/site-packages/IPython/core/interactiveshell.py:3057: DtypeWarning: Columns (0,1) have mixed types. Specify dtype option on import or set low_memory=False.\n",
      "  interactivity=interactivity, compiler=compiler, result=result)\n"
     ]
    }
   ],
   "source": [
    "import pandas as pd\n",
    "t = pd.read_csv('yelp_dataset/review_cleaned.csv')"
   ]
  },
  {
   "cell_type": "code",
   "execution_count": 2,
   "metadata": {},
   "outputs": [
    {
     "name": "stdout",
     "output_type": "stream",
     "text": [
      "<class 'pandas.core.frame.DataFrame'>\n",
      "RangeIndex: 3148044 entries, 0 to 3148043\n",
      "Data columns (total 9 columns):\n",
      "funny          object\n",
      "useful         object\n",
      "review_id      object\n",
      "text           object\n",
      "business_id    object\n",
      "stars          float64\n",
      "date           object\n",
      "user_id        object\n",
      "cool           float64\n",
      "dtypes: float64(2), object(7)\n",
      "memory usage: 216.2+ MB\n"
     ]
    }
   ],
   "source": [
    "t.info()"
   ]
  },
  {
   "cell_type": "code",
   "execution_count": 3,
   "metadata": {},
   "outputs": [
    {
     "data": {
      "text/plain": [
       "0      2510493\n",
       "1       357302\n",
       "2        99764\n",
       "0        53414\n",
       "3        41080\n",
       "4        21594\n",
       "5        12920\n",
       "6         8607\n",
       "1         7597\n",
       "7         5937\n",
       "8         4280\n",
       "9         3223\n",
       "10        2439\n",
       "2         2081\n",
       "11        1936\n",
       "12        1509\n",
       "13        1269\n",
       "14         988\n",
       "3          930\n",
       "15         829\n",
       "16         791\n",
       "17         619\n",
       "18         576\n",
       "19         515\n",
       "20         478\n",
       "4          428\n",
       "21         399\n",
       "23         350\n",
       "22         350\n",
       "24         303\n",
       "        ...   \n",
       "27           1\n",
       "62           1\n",
       "117          1\n",
       "130          1\n",
       "134          1\n",
       "71           1\n",
       "114          1\n",
       "149          1\n",
       "90           1\n",
       "100          1\n",
       "159          1\n",
       "161          1\n",
       "162          1\n",
       "89           1\n",
       "168          1\n",
       "105          1\n",
       "172          1\n",
       "175          1\n",
       "155          1\n",
       "176          1\n",
       "177          1\n",
       "142          1\n",
       "182          1\n",
       "140          1\n",
       "185          1\n",
       "187          1\n",
       "201          1\n",
       "139          1\n",
       "135          1\n",
       "174          1\n",
       "Name: funny, Length: 220, dtype: int64"
      ]
     },
     "execution_count": 3,
     "metadata": {},
     "output_type": "execute_result"
    }
   ],
   "source": [
    "t.funny.value_counts()"
   ]
  },
  {
   "cell_type": "code",
   "execution_count": null,
   "metadata": {},
   "outputs": [],
   "source": []
  }
 ],
 "metadata": {
  "kernelspec": {
   "display_name": "Python 3",
   "language": "python",
   "name": "python3"
  },
  "language_info": {
   "codemirror_mode": {
    "name": "ipython",
    "version": 3
   },
   "file_extension": ".py",
   "mimetype": "text/x-python",
   "name": "python",
   "nbconvert_exporter": "python",
   "pygments_lexer": "ipython3",
   "version": "3.7.3"
  }
 },
 "nbformat": 4,
 "nbformat_minor": 2
}
