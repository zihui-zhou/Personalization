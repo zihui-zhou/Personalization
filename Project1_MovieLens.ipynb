{
 "cells": [
  {
   "cell_type": "markdown",
   "metadata": {},
   "source": [
    "### IEORE 4571 Personalization Project 1###\n",
    "# Recommender System #\n",
    "****\n",
    "#### Zihui Zhou, zz2694@columbia.edu, zz2694  ####\n",
    "#### Han Wang, hw2761@columbia.edu,  hw2761 ####\n",
    "#### Jing You, jy3035@columbia.edu, jy3035 ####\n",
    "#### Yi Ping Tseng, yt2690@columbia.edu,  yt2690 ####\n"
   ]
  },
  {
   "cell_type": "markdown",
   "metadata": {},
   "source": [
    "### 1. Background and Objectives ###\n",
    "\n",
    "$\\qquad$ Developing personalized recommendations based on customers’ behavior data has played an important role in the digital media industry, for which companies may retain loyal customer relationships and attract new customers in the long run. In a specific case, film recommendations are given to customers based on their previous ratings and reviews. In our project, we try to build a system to serve users by recommending movies they may like. We explore this topic through analyzing “ml-20m” dataset from MovieLens, a web-based movie recommendation system. The dataset consists of 20,000,263 five-star ratings across 27,278 movies created by 138,493 users between January 09, 1995 and March 31, 2015. We mainly focus on using explicit ratings data to make predictions on users’ ratings for unwatched films. Based on these rating predictions, we try to avoid suggesting only the most popular films and  recommend films with higher predicted ratings to users. \n",
    "\n",
    "$\\qquad$ During the analysis process, we’ve considered the following business rule: for the users who are new to the rating system and have a relatively small amount of ratings, the recommendation model will result in less accurate predictions and larger bias."
   ]
  },
  {
   "cell_type": "markdown",
   "metadata": {},
   "source": [
    "### 2. Data Analysis ###\n",
    "$\\qquad$ We start approaching this problem by fully understanding \"20ml\" dataset from MovieLens. Among the entire dataset, we mainly use the \"ratings.csv\" file. Each row of the file contains a user's rating on a specific movie, on a 1 to 5 scale with half score allowed. With the following analysis, we conclude that the \"ratings.csv\" contains 138493 different users and 26744 movies. The dataset is relatively space which is indicated by the sparsity level of 99.5 %. Based on the plot of the ratings for each movie, some movies are much more popular than the others. Consequently, it raises a concern -- movies with more ratings are more likely to be recommended to all users. "
   ]
  },
  {
   "cell_type": "code",
   "execution_count": 1,
   "metadata": {},
   "outputs": [
    {
     "name": "stdout",
     "output_type": "stream",
     "text": [
      "The number unique of users is 138493\n",
      "The number of unique items is 26744\n",
      "The sparsity level is 99.5 %\n"
     ]
    },
    {
     "data": {
      "image/png": "[encoded data removed]",
      "text/plain": [
       "<Figure size 720x360 with 1 Axes>"
      ]
     },
     "metadata": {
      "needs_background": "light"
     },
     "output_type": "display_data"
    }
   ],
   "source": [
    "import pandas as pd\n",
    "import numpy as np\n",
    "import matplotlib.pylab as plt\n",
    "%matplotlib inline\n",
    "import seaborn as sns\n",
    "df = pd.read_csv('downloads/ml-20m/ratings.csv',sep = ',',usecols = ['userId','movieId','rating'])\n",
    "n_users = df['userId'].nunique()\n",
    "n_items = df['movieId'].nunique()\n",
    "sparsity = round(1.0-len(df)/float(n_users*n_items),3)\n",
    "print('The number unique of users is',n_users)\n",
    "print('The number of unique items is',n_items)\n",
    "print('The sparsity level is',sparsity*100,'%')\n",
    "\n",
    "fig, ax = plt.subplots(figsize=(10,5))\n",
    "fig = sns.distplot(df['movieId'])\n",
    "ax.set_ylabel('users that rated given movie')\n",
    "ax.set_xlabel('MovieID')\n",
    "ax.set_title('#Rating ditribution for each movie')\n",
    "plt.show()"
   ]
  },
  {
   "cell_type": "markdown",
   "metadata": {},
   "source": [
    "## 3. Collaborative Filtering Algorithms ##"
   ]
  },
  {
   "cell_type": "markdown",
   "metadata": {},
   "source": [
    "### 3.1 Item-based neighborhood-based collaborative filtering algorithm ###\n",
    "#### i. Data Preprocessing ####\n",
    "$\\qquad$ Taking the above business concerns into considerations, we filter the dataset by setting the following constraints: we select users who have rated over 3000 movies and popular movies which were rated over 15000 times. After completing the filtering process, 56 active users and 252 movies remain in the dataset."
   ]
  },
  {
   "cell_type": "code",
   "execution_count": 16,
   "metadata": {},
   "outputs": [
    {
     "name": "stdout",
     "output_type": "stream",
     "text": [
      "New pandarallel memory created - Size: 2000 MB\n",
      "Pandarallel will run on 7 workers\n"
     ]
    }
   ],
   "source": [
    "from sklearn.neighbors import NearestNeighbors\n",
    "from sklearn.model_selection import train_test_split\n",
    "from sklearn.metrics import mean_squared_error, mean_absolute_error\n",
    "\n",
    "import numpy as np\n",
    "import pandas as pd\n",
    "from scipy.sparse import csr_matrix\n",
    "import matplotlib.pyplot as plt\n",
    "import warnings \n",
    "\n",
    "%matplotlib inline\n",
    "warnings.filterwarnings('ignore')\n",
    "\n",
    "from pandarallel import pandarallel\n",
    "pandarallel.initialize(nb_workers=7, progress_bar=False)\n",
    "# for parallel computing the lambda function"
   ]
  },
  {
   "cell_type": "code",
   "execution_count": 17,
   "metadata": {},
   "outputs": [
    {
     "name": "stdout",
     "output_type": "stream",
     "text": [
      "NaNs cells:  0\n",
      "the number of popular movies:  252\n",
      "the number of active users:  56\n"
     ]
    }
   ],
   "source": [
    "data = pd.read_csv('downloads/ml-20m/ratings.csv')\n",
    "print(\"NaNs cells: \", data.isnull().values.sum())\n",
    "data.drop(\"timestamp\", inplace=True, axis=1)\n",
    "popularMovie = data[['rating', 'movieId']].groupby(\"movieId\").count()\n",
    "popularMovie = popularMovie.loc[popularMovie['rating'] > 15000].index\n",
    "\n",
    "popularUser = data[['rating', 'userId']].groupby(\"userId\").count()\n",
    "popularUser = popularUser.loc[popularUser['rating'] > 3000].index\n",
    "\n",
    "print(\"the number of popular movies: \", len(popularMovie))\n",
    "print(\"the number of active users: \", len(popularUser))\n",
    "\n",
    "data = data.loc[ \n",
    "    (data['movieId'].isin(popularMovie)) & (data['userId'].isin(popularUser)) \n",
    "]\n",
    "\n",
    "train, test = train_test_split(data, test_size=0.25)\n",
    "train, valid = train_test_split(train, test_size=0.34)\n",
    "\n",
    "'''\n",
    "this is the same as \n",
    "train.pivot(\n",
    "    index=\"movieId\", \n",
    "    columns=\"userId\",\n",
    "    values=\"rating\"\n",
    ")\n",
    "'''\n",
    "movieCat = pd.api.types.CategoricalDtype(categories=sorted(train['movieId'].unique()))\n",
    "userCat = pd.api.types.CategoricalDtype(categories=sorted(train['userId'].unique()))\n",
    "\n",
    "rowIndex = train['movieId'].astype(movieCat).cat.codes\n",
    "colIndex = train['userId'].astype(userCat).cat.codes\n",
    "sparse_matrix = csr_matrix(\n",
    "    (train[\"rating\"], (rowIndex, colIndex)), \n",
    "    shape=(movieCat.categories.size, userCat.categories.size)\n",
    ")\n",
    "\n",
    "UserItemDF = pd.SparseDataFrame(\n",
    "    sparse_matrix,\n",
    "    index=movieCat.categories,\n",
    "    columns=userCat.categories,\n",
    "    default_fill_value=0\n",
    ")"
   ]
  },
  {
   "cell_type": "markdown",
   "metadata": {},
   "source": [
    "#### ii. Build item-item similarity matrix ####\n",
    "1. Build iterm-user matrix (index: item, column: user)\n",
    "2. Replace missing values ‘NAN’ with 0\n",
    "3. Calculate cosine similarity between two movies \n",
    "4. K-nearest neighbors algorithm: Find out the top N closest neighbors as peer set by using cosine similarity as distance"
   ]
  },
  {
   "cell_type": "code",
   "execution_count": 18,
   "metadata": {},
   "outputs": [],
   "source": [
    "model = NearestNeighbors(\n",
    "    metric='cosine', \n",
    "    n_neighbors=20, \n",
    "    n_jobs=-1,\n",
    "    algorithm='brute'\n",
    ")\n",
    "\n",
    "model.fit(UserItemDF)\n",
    "dis, ind = model.kneighbors(return_distance=True)\n",
    "'''\n",
    "dis: distance in high dimension, smaller distance means high similarity\n",
    "ind: Indices of the nearest points in the population matrix.\n",
    "'''\n",
    "# movieId = 1\n",
    "dis[0], ind[0]\n",
    "# key: movieId\n",
    "# value: the row index in User-Item matrix\n",
    "movieIdIndexMap = {movId: idx for idx, movId in enumerate(UserItemDF.index)}\n",
    "showMovieIdIndexMap = list(movieIdIndexMap.items())"
   ]
  },
  {
   "cell_type": "markdown",
   "metadata": {},
   "source": [
    "#### iii. Predict ratings of unrated films for selected users ####\n",
    "$\\qquad$ Predictions are calculated from the following equation: (prediction rating equals the sum of item average rating and normalized weighted neighbors ratings using cosine similarity)  \n",
    "$$ p_{i,a} = \\overline{r}_{a} + \\frac{\\sum_{u\\in k}^{} (r_{u,i} - \\overline{r}_{u})\\times w_{a,u} }{\\sum_{u\\in k}^{} w_{a,u}}$$"
   ]
  },
  {
   "cell_type": "code",
   "execution_count": 19,
   "metadata": {},
   "outputs": [],
   "source": [
    "def predict(movieId, userId, dis, ind, UserItemMatrix, returnAvg=False):\n",
    "    movieIdIndexMap = {movId: idx for idx, movId in enumerate(UserItemMatrix.index)}\n",
    "    movieIdIndexMapReversed = {idx: movId for idx, movId in enumerate(UserItemMatrix.index)}\n",
    "    \n",
    "    # since we used cosine similarity so the closest neighbor distance should be 1\n",
    "    nonZeroUserIndex = np.nonzero(UserItemMatrix.loc[movieId])[0]\n",
    "    sim = dis[ movieIdIndexMap[movieId] ]\n",
    "    mu_movie = UserItemMatrix.loc[movieId]\\\n",
    "                             .iloc[nonZeroUserIndex]\\\n",
    "                             .mean()\n",
    "    \n",
    "    nonZeroMovieIndex = np.nonzero(UserItemMatrix.iloc[ind[ movieIdIndexMap[movieId] ]].loc[:, userId])[0]\n",
    "    denom = np.sum( abs(sim[nonZeroMovieIndex]) )\n",
    "    nom = (UserItemMatrix.iloc[ind[ movieIdIndexMap[movieId] ]]\n",
    "                     .loc[:, userId]\\\n",
    "                     .iloc[nonZeroMovieIndex]\n",
    "           - UserItemMatrix.iloc[ind[ movieIdIndexMap[movieId] ]]\\\n",
    "                           .iloc[nonZeroMovieIndex]\n",
    "                           .to_dense()\\\n",
    "                           .replace({0: np.nan})\\\n",
    "                           .mean(axis=1, skipna=True)\n",
    "    ).values\n",
    "\n",
    "    if len(nonZeroMovieIndex) == 0:\n",
    "        prediction = mu_movie\n",
    "    else:\n",
    "        prediction = mu_movie + np.sum(nom * sim[nonZeroMovieIndex]) / denom\n",
    "\n",
    "    if returnAvg:\n",
    "        return prediction, mu_movie\n",
    "    else:\n",
    "        return prediction\n",
    "\n",
    "    \n",
    "def func(s):\n",
    "    return predict(\n",
    "        movieId=s['movieId'],\n",
    "        userId=s['userId'], \n",
    "        dis=dis, ind=ind, \n",
    "        UserItemMatrix=UserItemDF\n",
    "    )\n",
    "\n",
    "train['predict'] = train.parallel_apply(func, axis=1)\n",
    "test['predict'] = test.parallel_apply(func, axis=1)"
   ]
  },
  {
   "cell_type": "markdown",
   "metadata": {},
   "source": [
    "### 3.2 Model-based collaborative filtering algorithm ###\n",
    "$\\qquad$ Model-based collaborative filtering makes use of the matrix factorization algorithm to represent users preferences with vectors in lower dimensions. ALS model is one of those algorithms that decomposes user-item matrix into low rank user matrix and item matrix such that users and products are described by a small set of latent factors that can be used to predict missing entries. ALS is good at dealing with the sparsity of the data, which is suitable for our movielens dataset. \n"
   ]
  },
  {
   "cell_type": "code",
   "execution_count": 23,
   "metadata": {},
   "outputs": [],
   "source": [
    "import os\n",
    "import pyspark\n",
    "from pyspark import SparkFiles\n",
    "from pyspark import SparkContext\n",
    "from pyspark.sql import SQLContext\n",
    "from pyspark.sql.functions import rand, col\n",
    "from pyspark.ml.recommendation import ALS\n",
    "from pyspark.ml.evaluation import RegressionEvaluator\n",
    "from pyspark.ml.tuning import ParamGridBuilder, TrainValidationSplit\n",
    "\n",
    "seed = 100\n",
    "sc = SparkContext()\n",
    "filePath = \"downloads/ml-20m/ratings.csv\"\n",
    "\n",
    "\n",
    "# read dataset into spark RDD\n",
    "sc.addFile(filePath)\n",
    "sqlContext = SQLContext(sc)\n",
    "df = sqlContext.read.csv(\n",
    "    SparkFiles.get(\"ratings.csv\"), \n",
    "    header=True, \n",
    "    inferSchema=True\n",
    ")\n",
    "\n",
    "sqlContext.registerDataFrameAsTable(df, \"df\")\n",
    "df = sqlContext.sql('''\n",
    "    SELECT \n",
    "        userId AS user, \n",
    "        movieId AS item,\n",
    "        rating\n",
    "    FROM df\n",
    "''')\n",
    "\n",
    "\n",
    "# adding uniform random numbers for train/validation/test set\n",
    "df = df.withColumn('TrainTest', rand(seed=seed))\n",
    "dftrain = df.where(col('TrainTest') < 0.75).drop(*[\"TrainTest\"])\n",
    "dftest = df.where(col('TrainTest') >= 0.75).drop(*[\"TrainTest\"])"
   ]
  },
  {
   "cell_type": "code",
   "execution_count": null,
   "metadata": {},
   "outputs": [],
   "source": [
    "rmse_list = []\n",
    "mae_list = []\n",
    "\n",
    "ranks = [20]\n",
    "regs = [0.05]\n",
    "rmse = RegressionEvaluator(metricName=\"rmse\", labelCol=\"rating\")\n",
    "mae = RegressionEvaluator(metricName=\"mae\", labelCol=\"rating\")\n",
    "\n",
    "for rank in ranks:\n",
    "    for reg in regs:\n",
    "        als = ALS(rank = rank,regParam = reg, nonnegative=True, checkpointInterval=3, coldStartStrategy=\"drop\")\n",
    "        \n",
    "        paramGrid = ParamGridBuilder()\\\n",
    "            .addGrid(als.rank, [rank]) \\\n",
    "            .addGrid(als.regParam, [reg])\\\n",
    "            .build()\n",
    "\n",
    "        tvs = TrainValidationSplit(\n",
    "            estimator=als,\n",
    "            evaluator=rmse,\n",
    "            estimatorParamMaps=paramGrid,\n",
    "            seed=seed,\n",
    "            trainRatio=0.66, # this ratio makes train:0.5 valid:0.25 and test:0.25\n",
    "            parallelism=6,\n",
    "        )\n",
    "\n",
    "        model = tvs.fit(dftrain)\n",
    "        testPred = model.transform(dftest)\n",
    "        error1 = rmse.evaluate(testPred)\n",
    "        error2 = mae.evaluate(testPred)\n",
    "        print('{} latent factors and regularization = {}: validation RMSE is {}，MAE is {}'.format(rank, reg, error1,error2))\n",
    "        rmse_list.append(error1)\n",
    "        mae_list.append(error2)"
   ]
  },
  {
   "cell_type": "markdown",
   "metadata": {},
   "source": [
    "### 3. Model Evaluation Methods ###\n",
    "#### i. Cross-validation setup####\n",
    "$\\qquad $ We use the train-validation-test setup to tune hyper parameters and evaluate the model performance. The ratio is 50% training, 25% validation, and 25% testing.  \n",
    "#### ii. Accuracy on training and test data ####\n",
    "$\\qquad$ For the evaluation of accuracy, we use the simplest baseline model. We predict the mean rating over the entire data set and calculate models’ accuracy using RMSE as the primary metric and MAE as the secondary metric. Then we use our collaborative filtering algorithm models to make predictions and calculate error to compare with the baseline model. The error on the training set is relatively smaller.\n",
    "#### iii. Coverage on training and test data ####\n",
    "$\\qquad$ We use user coverage to calculate coverage on training and test data. For every user, we try to create a top 10 recommendation list. We use baseline mean to define if a recommendation is good or not. If the absolute difference between the predicted rating and the true rating is smaller than the absolute difference between the mean and the true rating, we consider it a good recommendation. "
   ]
  },
  {
   "cell_type": "markdown",
   "metadata": {},
   "source": [
    "### 4. Model Performance ###\n",
    "$\\qquad$ We implement the root mean square error (RMSE) and mean absolute error (MAE) measurements in the neighborhood-based model and model-based model to evaluate their performance. In order to achieve relatively better evaluation metrics, we’ve performed grid search to tune the hyperparameters in each model."
   ]
  },
  {
   "cell_type": "code",
   "execution_count": 7,
   "metadata": {},
   "outputs": [
    {
     "name": "stdout",
     "output_type": "stream",
     "text": [
      "Baseline Model (Rating Average) Performance on Test Set\n",
      "RMSE:  0.9923954429054456\n",
      "MAE:  0.8110607948032077\n"
     ]
    }
   ],
   "source": [
    "ratingAvg = data['rating'].mean()\n",
    "test['baseline'] = ratingAvg\n",
    "print(\"Baseline Model (Rating Average) Performance on Test Set\")\n",
    "print(\"RMSE: \", mean_squared_error(test['rating'], test['baseline']))\n",
    "print(\"MAE: \", mean_absolute_error(test['rating'], test['baseline']))"
   ]
  },
  {
   "cell_type": "markdown",
   "metadata": {},
   "source": [
    "### 4.1 Performance of item-based neighborhood-based collaborative filtering algorithm\n",
    "$\\qquad$ As we vary the size of the neighbourhood set size as 10, 20, and 30, the resulting RMSE are decreasing:  0.8196 , 0.6847, 0.6403. Observing the resulte, it could be conclude that the increase number in the neighbourhood size leads to the increase in the model performance. Therefore, the neighbourhood set size affects the result of the prediction for the item-based neighborhood-based model. "
   ]
  },
  {
   "cell_type": "code",
   "execution_count": 20,
   "metadata": {},
   "outputs": [],
   "source": [
    "modelOne = NearestNeighbors(\n",
    "    metric='cosine', \n",
    "    n_neighbors=30, \n",
    "    n_jobs=-1,\n",
    "    algorithm='brute'\n",
    ")\n",
    "modelOne.fit(UserItemDF)\n",
    "disOne, indOne = modelOne.kneighbors(return_distance=True)\n",
    "\n",
    "\n",
    "modelTwo = NearestNeighbors(\n",
    "    metric='cosine', \n",
    "    n_neighbors=20, \n",
    "    n_jobs=-1,\n",
    "    algorithm='brute'\n",
    ")\n",
    "modelTwo.fit(UserItemDF)\n",
    "disTwo, indTwo = modelTwo.kneighbors(return_distance=True)\n",
    "\n",
    "\n",
    "modelThree = NearestNeighbors(\n",
    "    metric='cosine', \n",
    "    n_neighbors=10, \n",
    "    n_jobs=-1,\n",
    "    algorithm='brute'\n",
    ")\n",
    "modelThree.fit(UserItemDF)\n",
    "disThree, indThree = modelThree.kneighbors(return_distance=True)\n",
    "\n",
    "def func(s, dis, ind, UserItemMatrix):\n",
    "    return predict(\n",
    "        movieId=s['movieId'],\n",
    "        userId=s['userId'], \n",
    "        dis=dis, ind=ind, \n",
    "        UserItemMatrix=UserItemMatrix\n",
    "    )\n",
    "\n",
    "train['predictOne'] = train.parallel_apply(\n",
    "    func, axis=1, dis=disOne, ind=indOne, UserItemMatrix=UserItemDF\n",
    ")\n",
    "train['predictTwo'] = train.parallel_apply(\n",
    "    func, axis=1, dis=disTwo, ind=indTwo, UserItemMatrix=UserItemDF\n",
    ")\n",
    "train['predictThree'] = train.parallel_apply(\n",
    "    func, axis=1, dis=disThree, ind=indThree, UserItemMatrix=UserItemDF\n",
    ")\n",
    "\n",
    "valid['predictOne'] = valid.parallel_apply(\n",
    "    func, axis=1, dis=disOne, ind=indOne, UserItemMatrix=UserItemDF\n",
    ")\n",
    "\n",
    "valid['predictTwo'] = valid.parallel_apply(\n",
    "    func, axis=1, dis=disTwo, ind=indTwo, UserItemMatrix=UserItemDF\n",
    ")\n",
    "\n",
    "valid['predictThree'] = valid.parallel_apply(\n",
    "    func, axis=1, dis=disThree, ind=indThree, UserItemMatrix=UserItemDF\n",
    ")\n"
   ]
  },
  {
   "cell_type": "markdown",
   "metadata": {},
   "source": [
    "$\\qquad$ After tuning the hyperparameter, we conclude our models by choosing the best hyperparameters that minimize evaluation metrics. In the item-based neighborhood-based model, the final RMSE is 0.7058404931062546 , and MAE is  0.6478214709289709. Comparing with the baseline RMSE: 1.0519832166584029 and baseline MAE: 0.840690943200106, it is lower by 33% and 23%."
   ]
  },
  {
   "cell_type": "code",
   "execution_count": 11,
   "metadata": {},
   "outputs": [
    {
     "name": "stdout",
     "output_type": "stream",
     "text": [
      "model performance on training set\n",
      "RMSE:  0.5447087561317404\n",
      "MAE:  0.5684216511917545\n",
      "\n",
      "\n",
      "model performance on validation set\n",
      "RMSE:  0.6648909427320595\n",
      "MAE:  0.6341068745080062\n",
      "model performance on testing set\n",
      "RMSE:  0.6900512767615933\n",
      "MAE:  0.6343663877506326\n"
     ]
    },
    {
     "data": {
      "image/png": "[encoded data removed]",
      "text/plain": [
       "<Figure size 720x360 with 1 Axes>"
      ]
     },
     "metadata": {
      "needs_background": "light"
     },
     "output_type": "display_data"
    }
   ],
   "source": [
    "print(\"model performance on training set\")\n",
    "print('RMSE: ', mean_squared_error(train['rating'], train['predictOne']))\n",
    "print('MAE: ', mean_absolute_error(train['rating'], train['predictOne']))\n",
    "\n",
    "print(\"\\n\\nmodel performance on validation set\")\n",
    "print('RMSE: ', mean_squared_error(valid['rating'], valid['predictOne']))\n",
    "print('MAE: ', mean_absolute_error(valid['rating'], valid['predictOne']))\n",
    "\n",
    "test['predict'] = test.parallel_apply(\n",
    "    func, axis=1, dis=disOne, ind=indOne, UserItemMatrix=UserItemDF\n",
    ")\n",
    "print(\"model performance on testing set\")\n",
    "print('RMSE: ', mean_squared_error(test['rating'], test['predict']))\n",
    "print('MAE: ', mean_absolute_error(test['rating'], test['predict']))\n",
    "\n",
    "RMSE = pd.DataFrame([0.64033783953412, 0.6847783249081223, 0.8196170756782438], columns=[\"RMSE\"])\n",
    "neighborSize = pd.Series([30, 20, 10], name=\"Neighbors Size\")\n",
    "RMSE.index = neighborSize\n",
    "RMSE[\"RMSE\"].plot(\n",
    "    figsize=(10, 5),\n",
    "    title=\"RMSE vs Neighbors Size\"\n",
    ")\n",
    "plt.xlabel = \"Neighbors Size\"\n",
    "plt.ylabel = \"RMSE\""
   ]
  },
  {
   "cell_type": "markdown",
   "metadata": {},
   "source": [
    "### 4.2 Performance of model-based collaborative filtering algorithm\n",
    "$\\qquad$ The number of latent dimensions used in the matrix factorization impacts our result of prediction. Increasing the number of latent dimensions would improve the predictions until the number is too high that the model tends to overfit. We vary the number of latent dimensions from the following: 5, 10, 20. In addition, since ALS uses L2 regularization, the regularization parameter used in the als model also impacts the prediction result. Increasing the regularization parameter would avoid overfitting but we also want to limit the parameter that it won’t cause a great increase in bias in the model. We vary the parameter of regularization as 0.05, 0.01, 1. We tuned both parameters using a random sample size that is 0.1% of the complete data set. As we can see, under the same rank, smaller the regularization results in a lower error. "
   ]
  },
  {
   "cell_type": "code",
   "execution_count": 25,
   "metadata": {},
   "outputs": [
    {
     "name": "stdout",
     "output_type": "stream",
     "text": [
      "5 latent factors and regularization = 0.05: validation RMSE is 2.3927053526050885，MAE is 2.0357645742165302\n",
      "5 latent factors and regularization = 0.01: validation RMSE is 3.153087698273621，MAE is 2.461251913190988\n",
      "5 latent factors and regularization = 1: validation RMSE is 2.390377978164582，MAE is 2.1332545101938156\n",
      "10 latent factors and regularization = 0.05: validation RMSE is 2.278484792001456，MAE is 1.9784225488558072\n",
      "10 latent factors and regularization = 0.01: validation RMSE is 2.3799398682000077，MAE is 2.034882838008221\n",
      "10 latent factors and regularization = 1: validation RMSE is 2.4591924100601434，MAE is 2.226668984776886\n",
      "20 latent factors and regularization = 0.05: validation RMSE is 2.1784833334426104，MAE is 1.9038581722401853\n",
      "20 latent factors and regularization = 0.01: validation RMSE is 2.1662722619543415，MAE is 1.8754354239572761\n",
      "20 latent factors and regularization = 1: validation RMSE is 2.462927117639181，MAE is 2.2415006862337195\n"
     ]
    }
   ],
   "source": [
    "df = df.sample(False,0.001)\n",
    "dftrain = df.where(col('TrainTest') < 0.75).drop(*[\"TrainTest\"])\n",
    "dftest = df.where(col('TrainTest') >= 0.75).drop(*[\"TrainTest\"])\n",
    "rmse_list = []\n",
    "mae_list = []\n",
    "ranks = [5,10,20]\n",
    "regs = [0.05, 0.01, 1]\n",
    "rmse = RegressionEvaluator(metricName=\"rmse\", labelCol=\"rating\")\n",
    "mae = RegressionEvaluator(metricName=\"mae\", labelCol=\"rating\")\n",
    "\n",
    "for rank in ranks:\n",
    "    for reg in regs:\n",
    "        als = ALS(rank = rank,regParam = reg, nonnegative=True, checkpointInterval=3, coldStartStrategy=\"drop\")\n",
    "        \n",
    "        paramGrid = ParamGridBuilder()\\\n",
    "            .addGrid(als.rank, [rank]) \\\n",
    "            .addGrid(als.regParam, [reg])\\\n",
    "            .build()\n",
    "\n",
    "        tvs = TrainValidationSplit(\n",
    "            estimator=als,\n",
    "            evaluator=rmse,\n",
    "            estimatorParamMaps=paramGrid,\n",
    "            seed=seed,\n",
    "            trainRatio=0.66, # this ratio makes train:0.5 valid:0.25 and test:0.25\n",
    "            parallelism=6,\n",
    "        )\n",
    "\n",
    "        model = tvs.fit(dftrain)\n",
    "        testPred = model.transform(dftest)\n",
    "        error1 = rmse.evaluate(testPred)\n",
    "        error2 = mae.evaluate(testPred)\n",
    "        print('{} latent factors and regularization = {}: validation RMSE is {}，MAE is {}'.format(rank, reg, error1,error2))\n",
    "        rmse_list.append(error1)\n",
    "        mae_list.append(error2)\n",
    "        "
   ]
  },
  {
   "cell_type": "code",
   "execution_count": 26,
   "metadata": {},
   "outputs": [
    {
     "data": {
      "text/plain": [
       "<matplotlib.legend.Legend at 0x1a18550f60>"
      ]
     },
     "execution_count": 26,
     "metadata": {},
     "output_type": "execute_result"
    },
    {
     "data": {
      "image/png": "[encoded data removed]",
      "text/plain": [
       "<Figure size 720x360 with 1 Axes>"
      ]
     },
     "metadata": {
      "needs_background": "light"
     },
     "output_type": "display_data"
    },
    {
     "data": {
      "image/png": "[encoded data removed]",
      "text/plain": [
       "<Figure size 720x360 with 1 Axes>"
      ]
     },
     "metadata": {
      "needs_background": "light"
     },
     "output_type": "display_data"
    }
   ],
   "source": [
    "fig, ax = plt.subplots(figsize=(10,5))\n",
    "plt.plot(regs, rmse_list[0:3],regs,rmse_list[3:6], regs,rmse_list[6:9])\n",
    "ax.set_ylabel('RMSE')\n",
    "ax.set_xlabel('Regularization parameter')\n",
    "ax.set_title('Regularization parameter tuning with differnet rank ')\n",
    "plt.legend(['5', '10', '20'], loc = 'upper left', frameon=True)\n",
    "\n",
    "fig, ax = plt.subplots(figsize=(10,5))\n",
    "plt.plot(regs, mae_list[0:3],regs,mae_list[3:6], regs,mae_list[6:9])\n",
    "ax.set_ylabel('MAE')\n",
    "ax.set_xlabel('Regularization parameter')\n",
    "ax.set_title('Regularization parameter tuning with differnet rank ')\n",
    "plt.legend(['5', '10', '20'], loc = 'upper left', frameon=True)"
   ]
  },
  {
   "cell_type": "markdown",
   "metadata": {},
   "source": [
    "$\\qquad$ Under the model-based collaborative filtering algorithm, the final RMSE is 0.7953830458336725,  and MAE is 0.6172952042333186. Comparing with the baseline RMSE and baseline MAE, it is lower by 25% and 26% "
   ]
  },
  {
   "cell_type": "markdown",
   "metadata": {},
   "source": [
    "### 4.2 Model size variation\n",
    "$\\qquad$ For different sample size, it is reasonable for models to have different performance. In order to understand how the evaluation metric change with the training set size, we modified the training set size as 1%, 10%,  30%, 50%  of the entire dataset size. According to our experiments, the overall accuracy changes over different training set sizes: the model with larger training set size has a higher accuracy (smaller RMSE) but requires a longer training time."
   ]
  },
  {
   "cell_type": "markdown",
   "metadata": {},
   "source": [
    "### 5. Concolusion\n",
    "#### i. Result ####\n",
    "$\\qquad$ After tuning the hyperparameters under each case, we conclude our models by choosing the best hyperparameters that minimize evaluation metrics. In the item-based memory-based model, the final RMSE is 0.7058404931062546 , and MAE is  0.6478214709289709. Comparing with the baseline RMSE: 1.0519832166584029 and baseline MAE: 0.840690943200106, it is lower by 33% and 23%.  Under the model-based model-based model, the final RMSE is 0.7953830458336725,  and MAE is 0.6172952042333186. Comparing with the baseline RMSE and baseline MAE, it is lower by 25% and 26%  . Therefore, we meet our hypothetical objectives.\n",
    "#### ii. Limitations ####\n",
    "$\\qquad$ However, there are some business concerns that need to be taken into consideration when making predictions and recommendations based on the MovieLens dataset. Some users have rated many more films and the ratings range over 10 years. Considering that users’ preferences change over time, more recent ratings would be more important for predictions compared with the previous ones. Therefore, bias may exist if the model gives each rating the same weight. For the current model we leave out the consideration on timestamp and give all the ratings the same weight. To improve the model furtherly, we can give a higher weight on user’s recent rating and a lower weight on user’s past ratings based on the timestamp of the ratings.\n",
    "#### iii. Potential Improvement ####\n",
    "$\\qquad$ An improved model could be a model that also take timestamp as consideration. In order to take user preferences change into account, we can assign a larger weight on  users’ recent rating and a smaller weight on user’s past rating."
   ]
  },
  {
   "cell_type": "code",
   "execution_count": null,
   "metadata": {},
   "outputs": [],
   "source": []
  }
 ],
 "metadata": {
  "kernelspec": {
   "display_name": "Python 3",
   "language": "python",
   "name": "python3"
  },
  "language_info": {
   "codemirror_mode": {
    "name": "ipython",
    "version": 3
   },
   "file_extension": ".py",
   "mimetype": "text/x-python",
   "name": "python",
   "nbconvert_exporter": "python",
   "pygments_lexer": "ipython3",
   "version": "3.7.3"
  }
 },
 "nbformat": 4,
 "nbformat_minor": 2
}
